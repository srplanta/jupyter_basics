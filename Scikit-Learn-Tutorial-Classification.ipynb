{
 "cells": [
  {
   "cell_type": "markdown",
   "metadata": {
    "collapsed": true
   },
   "source": [
    "# What is Machine Learning and how does it works?"
   ]
  },
  {
   "cell_type": "markdown",
   "metadata": {},
   "source": [
    "- To render notebooks available on other websites, click on the following link\n",
    "### http://nbviewer.jupyter.org/\n",
    "\n",
    "regular text\n",
    "\n",
    "**Note.** Hit \"H\" key to see keyboard shortcuts"
   ]
  },
  {
   "cell_type": "code",
   "execution_count": 1,
   "metadata": {},
   "outputs": [],
   "source": [
    "from sklearn.datasets import load_iris                          # import iris data-set\n",
    "from sklearn.model_selection import train_test_split            # to split data into training and test data\n",
    "from sklearn.neighbors import KNeighborsClassifier              # import KNN classifier\n",
    "from sklearn.linear_model import LogisticRegression             # import LogisticRegression classifier\n",
    "from sklearn import metrics                                     # import metrics for classifier's evaluation\n",
    "\n",
    "import matplotlib.pyplot as plt"
   ]
  },
  {
   "cell_type": "code",
   "execution_count": 2,
   "metadata": {},
   "outputs": [],
   "source": [
    "iris = load_iris()             # loas iris data set\n",
    "X = iris.data                  # scikit-learn convension to store \"feature-matrix-X\" as it is a complete matrix\n",
    "y = iris.target                # scikit-learn convension to store \"response-vector-y\" as it is a single column"
   ]
  },
  {
   "cell_type": "code",
   "execution_count": 3,
   "metadata": {},
   "outputs": [],
   "source": [
    "# print(X.shape)               # just to see shape of data whether its in correct rowXcolumn order\n",
    "# print(y.shape)               # just to see whether it is a column vector and represents the class lables\n",
    "### after verification commnet-out the cell to release the page space"
   ]
  },
  {
   "cell_type": "code",
   "execution_count": 4,
   "metadata": {},
   "outputs": [],
   "source": [
    "# print(iris)                  # feature vectors\n",
    "# print(iris.feature_names)    # feature vector's names\n",
    "### after verification commnet-out the cell to release the page space"
   ]
  },
  {
   "cell_type": "code",
   "execution_count": 5,
   "metadata": {},
   "outputs": [],
   "source": [
    "# print(iris.target)           # class lables\n",
    "# print(iris.target_names)     # class lables names\n",
    "### after verification commnet-out the cell to release the page space"
   ]
  },
  {
   "cell_type": "code",
   "execution_count": 6,
   "metadata": {},
   "outputs": [],
   "source": [
    "X_train, X_test, y_train, y_test = train_test_split(X, y, test_size=0.4, random_state=4)\n",
    "# X_train --- training-data of feature vector\n",
    "# X_test ---- test-data of feature vector\n",
    "# y_train --- training-data of lables vector\n",
    "# y_test ---- test-data of lables vector\n",
    "# --------------------------------------------------------------------------------------\n",
    "\n",
    "# print(X_train.shape)\n",
    "# print(X_test.shape)\n",
    "# print(y_train.shape)\n",
    "# print(y_test.shape)"
   ]
  },
  {
   "cell_type": "code",
   "execution_count": 7,
   "metadata": {},
   "outputs": [
    {
     "name": "stdout",
     "output_type": "stream",
     "text": [
      "0.9333333333333333\n"
     ]
    }
   ],
   "source": [
    "logreg = LogisticRegression(solver=\"liblinear\", multi_class=\"auto\") # instantiate the LogesticRegression model\n",
    "logreg.fit(X_train, y_train)                                  # train the model on training data and training lables\n",
    "y_pred = logreg.predict(X_test)                               # test the model on unlabled test data\n",
    "print(metrics.accuracy_score(y_test, y_pred))                 # evaluate the model by comparing predicted and actual lables"
   ]
  },
  {
   "cell_type": "code",
   "execution_count": 8,
   "metadata": {},
   "outputs": [
    {
     "name": "stdout",
     "output_type": "stream",
     "text": [
      "0.95\n"
     ]
    }
   ],
   "source": [
    "knn = KNeighborsClassifier(n_neighbors=1)                     # choose nearest neighbour value = 1\n",
    "knn.fit(X_train, y_train)                                     # train the model on training data and training lables\n",
    "y_pred = knn.predict(X_test)                                  # test the model on unlabled test data\n",
    "print(metrics.accuracy_score(y_test, y_pred))                 # evaluate the model by comparing predicted and actual lables"
   ]
  },
  {
   "cell_type": "code",
   "execution_count": 9,
   "metadata": {},
   "outputs": [
    {
     "name": "stdout",
     "output_type": "stream",
     "text": [
      "0.9666666666666667\n"
     ]
    }
   ],
   "source": [
    "knn = KNeighborsClassifier(n_neighbors=5)                     # choose nearest neighbour value = 1\n",
    "knn.fit(X_train, y_train)                                     # train the model on training data and training lables\n",
    "y_pred = knn.predict(X_test)                                  # test the model on unlabled test data\n",
    "print(metrics.accuracy_score(y_test, y_pred))                 # evaluate the model by comparing predicted and actual lables"
   ]
  },
  {
   "cell_type": "code",
   "execution_count": 10,
   "metadata": {},
   "outputs": [
    {
     "data": {
      "text/plain": [
       "Text(0.5, 1.0, 'Finding Optimum Number of K-Neighbours\\n')"
      ]
     },
     "execution_count": 10,
     "metadata": {},
     "output_type": "execute_result"
    },
    {
     "data": {
      "image/png": "[encoded data removed]",
      "text/plain": [
       "<Figure size 432x288 with 1 Axes>"
      ]
     },
     "metadata": {
      "needs_background": "light"
     },
     "output_type": "display_data"
    }
   ],
   "source": [
    "k_range = list(range(1, 25))\n",
    "scores = []\n",
    "for k in k_range:\n",
    "    knn = KNeighborsClassifier(n_neighbors=k)                 # choose nearest neighbour value = 1\n",
    "    knn.fit(X_train, y_train)                                 # train the model on training data and training lables\n",
    "    y_pred = knn.predict(X_test)                              # test the model on unlabled test data\n",
    "    scores.append(metrics.accuracy_score(y_test, y_pred))     # append accuracy value to scores\n",
    "    \n",
    "plt.plot(k_range, scores)                                     # plot the graph\n",
    "plt.xlabel(\"\\nValue of K for K-Nearest Neighbours\")\n",
    "plt.ylabel(\"Testing Accuracy\")\n",
    "plt.title(\"Finding Optimum Number of K-Neighbours\\n\")"
   ]
  },
  {
   "cell_type": "markdown",
   "metadata": {},
   "source": [
    "### Predicting for unknown data"
   ]
  },
  {
   "cell_type": "code",
   "execution_count": 11,
   "metadata": {},
   "outputs": [],
   "source": [
    "# knn = KNeighborsClassifier(n_neighbors=11)\n",
    "# knn.fit(X, y)\n",
    "# knn.predict([[3, 5, 4, 2]])"
   ]
  },
  {
   "cell_type": "code",
   "execution_count": 12,
   "metadata": {},
   "outputs": [],
   "source": [
    "# from IPython.display import HTML\n",
    "# HTML(\"<iframe src=https://archive.ics.uci.edu/ml/machine-learning-databases/iris/bezdekIris.data width=300 height=200></iframe\")"
   ]
  },
  {
   "cell_type": "markdown",
   "metadata": {},
   "source": [
    "## Four key requirements for data in sikit-learn"
   ]
  },
  {
   "cell_type": "markdown",
   "metadata": {},
   "source": [
    "**1. Both, \"Features\" and \"Lables\", should be seperate objects**"
   ]
  },
  {
   "cell_type": "code",
   "execution_count": 13,
   "metadata": {},
   "outputs": [],
   "source": [
    "# print(type(iris.data))       # features are seperate object\n",
    "# print(type(iris.target))     # responses/lables are also seperate object\n",
    "# # both are standared numpy arrays"
   ]
  },
  {
   "cell_type": "markdown",
   "metadata": {},
   "source": [
    "#### **2. Both \"Feature\" and \"Lables\" should be in numeric forms**"
   ]
  },
  {
   "cell_type": "markdown",
   "metadata": {},
   "source": [
    "**3. Both \"Features\" and \"Lables\" should be Numpy array**"
   ]
  },
  {
   "cell_type": "markdown",
   "metadata": {},
   "source": [
    "**4. Both \"Features\" and \"Labels\" should have specific shape**"
   ]
  },
  {
   "cell_type": "code",
   "execution_count": null,
   "metadata": {},
   "outputs": [],
   "source": []
  }
 ],
 "metadata": {
  "kernelspec": {
   "display_name": "Python 3",
   "language": "python",
   "name": "python3"
  },
  "language_info": {
   "codemirror_mode": {
    "name": "ipython",
    "version": 3
   },
   "file_extension": ".py",
   "mimetype": "text/x-python",
   "name": "python",
   "nbconvert_exporter": "python",
   "pygments_lexer": "ipython3",
   "version": "3.6.0"
  }
 },
 "nbformat": 4,
 "nbformat_minor": 1
}
