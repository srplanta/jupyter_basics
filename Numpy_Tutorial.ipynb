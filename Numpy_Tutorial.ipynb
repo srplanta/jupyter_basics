{
 "cells": [
  {
   "cell_type": "code",
   "execution_count": 9,
   "metadata": {},
   "outputs": [],
   "source": [
    "%config IPCompleter.greedy=True"
   ]
  },
  {
   "cell_type": "code",
   "execution_count": 2,
   "metadata": {},
   "outputs": [
    {
     "name": "stdout",
     "output_type": "stream",
     "text": [
      "[[ 1  2  3  4  5  6  7  8  9 10]\n",
      " [11 12 13 14 15 16 17 18 19 20]\n",
      " [21 22 23 24 25 26 27 28 29 30]]\n",
      "mean: 15.5\n"
     ]
    }
   ],
   "source": [
    "import numpy as np\n",
    "\n",
    "data = [(1, 2, 3, 4, 5, 6, 7, 8, 9, 10),\n",
    "        (11, 12, 13, 14, 15, 16, 17, 18, 19, 20),\n",
    "        (21, 22, 23, 24, 25, 26, 27, 28, 29, 30)]\n",
    "\n",
    "np_data = np.array(data, dtype=int)\n",
    "print(np_data)\n",
    "print(\"mean: \" + str(np.mean(np_data)))\n",
    "np.savetxt(\"np_array.csv\", np_data, delimiter=\",\")\n",
    "# ------------------------------------------------------------------------------------------------------ #"
   ]
  },
  {
   "cell_type": "code",
   "execution_count": 11,
   "metadata": {},
   "outputs": [
    {
     "name": "stdout",
     "output_type": "stream",
     "text": [
      "\"np_data is a 2-dimension array\"\n",
      "\"rows and columns of np_data are (3, 10) respectively\"\n",
      "\"memory-size of each item/element in np_data is 4 byte\"\n",
      "\"data type of numpy array is int32\"\n"
     ]
    }
   ],
   "source": [
    "# (.dim) returns dimensions of a given array.\n",
    "# below np_data.ndim will return dimensions of np_data (a numpy array)\n",
    "print(\"\\\"np_data is a \" + str(np_data.ndim) + \"-dimension array\\\"\")\n",
    "# ------------------------------------------------------------------------------------------------------ #\n",
    "\n",
    "# (.shape) returns rows and columns of given numpy array\n",
    "print(\"\\\"rows and columns of np_data are \" + str(np_data.shape) + \" respectively\\\"\")\n",
    "# ------------------------------------------------------------------------------------------------------ #\n",
    "\n",
    "# (.itemsize) returns memory-byte-size of each element in numpy array\n",
    "print(\"\\\"memory-size of each item/element in np_data is \" + str(np_data.itemsize) + \" byte\\\"\")\n",
    "# ------------------------------------------------------------------------------------------------------ #\n",
    "\n",
    "# (.dtype) returns data type of numpy array\n",
    "print(\"\\\"data type of numpy array is \" + str(np_data.dtype) + \"\\\"\")"
   ]
  },
  {
   "cell_type": "code",
   "execution_count": 3,
   "metadata": {},
   "outputs": [
    {
     "name": "stdout",
     "output_type": "stream",
     "text": [
      "[1. 2. 3. 4. 5.]\n"
     ]
    }
   ],
   "source": [
    "## numpy operations\n",
    "# following will assign 10 values equally spaced between 1 and 3\n",
    "values = np.linspace(1, 5, 5)\n",
    "print(values) # print above values"
   ]
  },
  {
   "cell_type": "code",
   "execution_count": 13,
   "metadata": {},
   "outputs": [
    {
     "name": "stdout",
     "output_type": "stream",
     "text": [
      "[[ 1  2  3  4  5  6  7  8  9 10]\n",
      " [11 12 13 14 15 16 17 18 19 20]\n",
      " [21 22 23 24 25 26 27 28 29 30]]\n",
      "\n",
      "sum of columns = [33 36 39 42 45 48 51 54 57 60]\n",
      "mean of columns= [11 12 13 14 15 16 17 18 19 20]\n",
      "155 15.5\n"
     ]
    }
   ],
   "source": [
    "sumOfColumns = np_data.sum(axis=0) # find sum of each column\n",
    "meanOfColumns = np.mean(np_data, axis=0, dtype=int) # find mean of each column\n",
    "mean_meanOfColumns = np.mean(meanOfColumns)\n",
    "\n",
    "print(np_data)\n",
    "print()\n",
    "print(\"sum of columns = \" + str(sumOfColumns)) # print sum of each column\n",
    "print(\"mean of columns= \" + str(meanOfColumns)) # print mean of each column\n",
    "print(sum(meanOfColumns), mean_meanOfColumns)"
   ]
  },
  {
   "cell_type": "code",
   "execution_count": 14,
   "metadata": {},
   "outputs": [
    {
     "name": "stdout",
     "output_type": "stream",
     "text": [
      "[[ 1  2  3  4  5  6  7  8  9 10]\n",
      " [11 12 13 14 15 16 17 18 19 20]\n",
      " [21 22 23 24 25 26 27 28 29 30]]\n",
      "\n",
      "sum of each row = [ 55 155 255]\n",
      "mean of each row= [ 5.5 15.5 25.5]\n",
      "465 15.5\n"
     ]
    }
   ],
   "source": [
    "sumOfRows = np_data.sum(axis=1) # find sum of each row\n",
    "meanOfRows = np.mean(np_data, axis=1) # find mean of each row\n",
    "mean_meanOfRows = np.mean(meanOfRows)\n",
    "\n",
    "print(np_data)\n",
    "print()\n",
    "print(\"sum of each row = \" + str(sumOfRows)) # print sum of each row\n",
    "print(\"mean of each row= \" + str(meanOfRows)) # print mean of each row\n",
    "print(sum(sumOfRows), mean_meanOfRows)"
   ]
  },
  {
   "cell_type": "code",
   "execution_count": 15,
   "metadata": {},
   "outputs": [
    {
     "name": "stdout",
     "output_type": "stream",
     "text": [
      "[[1.         1.41421356 1.73205081 2.         2.23606798 2.44948974\n",
      "  2.64575131 2.82842712 3.         3.16227766]\n",
      " [3.31662479 3.46410162 3.60555128 3.74165739 3.87298335 4.\n",
      "  4.12310563 4.24264069 4.35889894 4.47213595]\n",
      " [4.58257569 4.69041576 4.79583152 4.89897949 5.         5.09901951\n",
      "  5.19615242 5.29150262 5.38516481 5.47722558]]\n"
     ]
    }
   ],
   "source": [
    "sqrtOf_np_data = np.sqrt(np_data)\n",
    "print(sqrtOf_np_data)"
   ]
  },
  {
   "cell_type": "code",
   "execution_count": 16,
   "metadata": {},
   "outputs": [
    {
     "name": "stdout",
     "output_type": "stream",
     "text": [
      "8.65544144839919\n"
     ]
    }
   ],
   "source": [
    "standardDeviation = np.std(np_data)\n",
    "print(standardDeviation)"
   ]
  },
  {
   "cell_type": "code",
   "execution_count": 5,
   "metadata": {},
   "outputs": [
    {
     "name": "stdout",
     "output_type": "stream",
     "text": [
      "[[ 3  6  9 12 15 18 21 24 27 30]\n",
      " [33 36 39 42 45 48 51 54 57 60]\n",
      " [63 66 69 72 75 78 81 84 87 90]]\n",
      "[[ 1  2  3  4  5  6  7  8  9 10]\n",
      " [11 12 13 14 15 16 17 18 19 20]\n",
      " [21 22 23 24 25 26 27 28 29 30]][[ 1  2  3  4  5  6  7  8  9 10]\n",
      " [11 12 13 14 15 16 17 18 19 20]\n",
      " [21 22 23 24 25 26 27 28 29 30]][[ 1  2  3  4  5  6  7  8  9 10]\n",
      " [11 12 13 14 15 16 17 18 19 20]\n",
      " [21 22 23 24 25 26 27 28 29 30]]\n"
     ]
    }
   ],
   "source": [
    "### arithmatic operations\n",
    "# addition: adds each element for numeric array\n",
    "# addition: concatinates each element for strin array\n",
    "\n",
    "print(np_data*3) # multiplies each element wi\n",
    "print(str(np_data)*3)"
   ]
  },
  {
   "cell_type": "code",
   "execution_count": null,
   "metadata": {},
   "outputs": [],
   "source": []
  },
  {
   "cell_type": "code",
   "execution_count": null,
   "metadata": {},
   "outputs": [],
   "source": []
  }
 ],
 "metadata": {
  "kernelspec": {
   "display_name": "Python 3",
   "language": "python",
   "name": "python3"
  },
  "language_info": {
   "codemirror_mode": {
    "name": "ipython",
    "version": 3
   },
   "file_extension": ".py",
   "mimetype": "text/x-python",
   "name": "python",
   "nbconvert_exporter": "python",
   "pygments_lexer": "ipython3",
   "version": "3.6.0"
  }
 },
 "nbformat": 4,
 "nbformat_minor": 1
}
